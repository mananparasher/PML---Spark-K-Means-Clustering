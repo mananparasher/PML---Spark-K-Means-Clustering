{
 "cells": [
  {
   "cell_type": "markdown",
   "metadata": {},
   "source": [
    "## Import the Libraries"
   ]
  },
  {
   "cell_type": "code",
   "execution_count": null,
   "metadata": {},
   "outputs": [],
   "source": [
    "from pyspark.ml.feature import StringIndexer, VectorAssembler\n",
    "from pyspark.mllib.clustering import KMeans, KMeansModel\n",
    "from pyspark.sql import SparkSession\n",
    "spark = SparkSession.builder.appName(\"K-Means Clustering\").getOrCreate()"
   ]
  },
  {
   "cell_type": "markdown",
   "metadata": {},
   "source": [
    "## Download the Dataset"
   ]
  },
  {
   "cell_type": "code",
   "execution_count": 9,
   "metadata": {},
   "outputs": [
    {
     "name": "stdout",
     "output_type": "stream",
     "text": [
      "Warning: Failed to set locale category LC_NUMERIC to en_IN.\n",
      "Warning: Failed to set locale category LC_TIME to en_IN.\n",
      "Warning: Failed to set locale category LC_COLLATE to en_IN.\n",
      "Warning: Failed to set locale category LC_MONETARY to en_IN.\n",
      "Warning: Failed to set locale category LC_MESSAGES to en_IN.\n",
      "--2020-06-22 20:29:30--  https://raw.githubusercontent.com/mananparasher/Spark-Datasets/master/breast-cancer-wisconsin.csv\n",
      "Resolving raw.githubusercontent.com (raw.githubusercontent.com)... 151.101.52.133\n",
      "Connecting to raw.githubusercontent.com (raw.githubusercontent.com)|151.101.52.133|:443... connected.\n",
      "HTTP request sent, awaiting response... 200 OK\n",
      "Length: 24063 (23K) [text/plain]\n",
      "Saving to: ‘breast-cancer-wisconsin.csv.1’\n",
      "\n",
      "breast-cancer-wisco 100%[===================>]  23.50K  --.-KB/s    in 0.05s   \n",
      "\n",
      "2020-06-22 20:29:31 (466 KB/s) - ‘breast-cancer-wisconsin.csv.1’ saved [24063/24063]\n",
      "\n"
     ]
    }
   ],
   "source": [
    "!wget https://raw.githubusercontent.com/mananparasher/Spark-Datasets/master/breast-cancer-wisconsin.csv"
   ]
  },
  {
   "cell_type": "markdown",
   "metadata": {},
   "source": [
    "## Load the Data in Spark DataFrame  "
   ]
  },
  {
   "cell_type": "code",
   "execution_count": 2,
   "metadata": {},
   "outputs": [
    {
     "name": "stdout",
     "output_type": "stream",
     "text": [
      "root\n",
      " |-- _c0: integer (nullable = true)\n",
      " |-- id: integer (nullable = true)\n",
      " |-- Clump_Thickness: integer (nullable = true)\n",
      " |-- Cell_Size: integer (nullable = true)\n",
      " |-- Cell_Shape: integer (nullable = true)\n",
      " |-- Marginal_Adhesion: integer (nullable = true)\n",
      " |-- Epithelial_Cell_Size: integer (nullable = true)\n",
      " |-- Bare_Nuclei: double (nullable = true)\n",
      " |-- Bland_Chromatin: integer (nullable = true)\n",
      " |-- Normal_Nucleoli: integer (nullable = true)\n",
      " |-- Mitoses: integer (nullable = true)\n",
      " |-- Class: integer (nullable = true)\n",
      "\n"
     ]
    }
   ],
   "source": [
    "df = spark.read.csv('breast-cancer-wisconsin.csv', header = True, inferSchema = True)\n",
    "df.printSchema()"
   ]
  },
  {
   "cell_type": "markdown",
   "metadata": {},
   "source": [
    "##  Data Processing for Machine Learning model     "
   ]
  },
  {
   "cell_type": "code",
   "execution_count": 6,
   "metadata": {},
   "outputs": [
    {
     "name": "stdout",
     "output_type": "stream",
     "text": [
      "+--------------------+\n",
      "|            features|\n",
      "+--------------------+\n",
      "|[5.0,1.0,1.0,1.0,...|\n",
      "|[5.0,4.0,4.0,5.0,...|\n",
      "|[3.0,1.0,1.0,1.0,...|\n",
      "|[6.0,8.0,8.0,1.0,...|\n",
      "|[4.0,1.0,1.0,3.0,...|\n",
      "|[8.0,10.0,10.0,8....|\n",
      "|[1.0,1.0,1.0,1.0,...|\n",
      "|[2.0,1.0,2.0,1.0,...|\n",
      "|[2.0,1.0,1.0,1.0,...|\n",
      "|[4.0,2.0,1.0,1.0,...|\n",
      "|[1.0,1.0,1.0,1.0,...|\n",
      "|[2.0,1.0,1.0,1.0,...|\n",
      "|[5.0,3.0,3.0,3.0,...|\n",
      "|[1.0,1.0,1.0,1.0,...|\n",
      "|[8.0,7.0,5.0,10.0...|\n",
      "|[7.0,4.0,6.0,4.0,...|\n",
      "|[4.0,1.0,1.0,1.0,...|\n",
      "|[4.0,1.0,1.0,1.0,...|\n",
      "|[10.0,7.0,7.0,6.0...|\n",
      "|[6.0,1.0,1.0,1.0,...|\n",
      "+--------------------+\n",
      "only showing top 20 rows\n",
      "\n"
     ]
    }
   ],
   "source": [
    "vectorAssembler = VectorAssembler(inputCols = ['Clump_Thickness', 'Cell_Size', 'Cell_Shape',\\\n",
    "'Marginal_Adhesion', 'Epithelial_Cell_Size', 'Normal_Nucleoli', 'Bland_Chromatin',\\\n",
    "'Bare_Nuclei', 'Mitoses', 'Class'], outputCol = 'features')\n",
    "\n",
    "transformed_df = vectorAssembler.transform(df)\n",
    "transformed_df=transformed_df.select(\"features\")\n",
    "transformed_df.show()"
   ]
  },
  {
   "cell_type": "code",
   "execution_count": 7,
   "metadata": {},
   "outputs": [
    {
     "data": {
      "text/plain": [
       "[[5.0, 1.0, 1.0, 1.0, 2.0, 1.0, 3.0, 1.0, 1.0, 2.0],\n",
       " [5.0, 4.0, 4.0, 5.0, 7.0, 2.0, 3.0, 10.0, 1.0, 2.0],\n",
       " [3.0, 1.0, 1.0, 1.0, 2.0, 1.0, 3.0, 2.0, 1.0, 2.0],\n",
       " [6.0, 8.0, 8.0, 1.0, 3.0, 7.0, 3.0, 4.0, 1.0, 2.0],\n",
       " [4.0, 1.0, 1.0, 3.0, 2.0, 1.0, 3.0, 1.0, 1.0, 2.0],\n",
       " [8.0, 10.0, 10.0, 8.0, 7.0, 7.0, 9.0, 10.0, 1.0, 4.0],\n",
       " [1.0, 1.0, 1.0, 1.0, 2.0, 1.0, 3.0, 10.0, 1.0, 2.0],\n",
       " [2.0, 1.0, 2.0, 1.0, 2.0, 1.0, 3.0, 1.0, 1.0, 2.0],\n",
       " [2.0, 1.0, 1.0, 1.0, 2.0, 1.0, 1.0, 1.0, 5.0, 2.0],\n",
       " [4.0, 2.0, 1.0, 1.0, 2.0, 1.0, 2.0, 1.0, 1.0, 2.0],\n",
       " [1.0, 1.0, 1.0, 1.0, 1.0, 1.0, 3.0, 1.0, 1.0, 2.0],\n",
       " [2.0, 1.0, 1.0, 1.0, 2.0, 1.0, 2.0, 1.0, 1.0, 2.0],\n",
       " [5.0, 3.0, 3.0, 3.0, 2.0, 4.0, 4.0, 3.0, 1.0, 4.0],\n",
       " [1.0, 1.0, 1.0, 1.0, 2.0, 1.0, 3.0, 3.0, 1.0, 2.0],\n",
       " [8.0, 7.0, 5.0, 10.0, 7.0, 5.0, 5.0, 9.0, 4.0, 4.0],\n",
       " [7.0, 4.0, 6.0, 4.0, 6.0, 3.0, 4.0, 1.0, 1.0, 4.0],\n",
       " [4.0, 1.0, 1.0, 1.0, 2.0, 1.0, 2.0, 1.0, 1.0, 2.0],\n",
       " [4.0, 1.0, 1.0, 1.0, 2.0, 1.0, 3.0, 1.0, 1.0, 2.0],\n",
       " [10.0, 7.0, 7.0, 6.0, 4.0, 1.0, 4.0, 10.0, 2.0, 4.0],\n",
       " [6.0, 1.0, 1.0, 1.0, 2.0, 1.0, 3.0, 1.0, 1.0, 2.0]]"
      ]
     },
     "execution_count": 7,
     "metadata": {},
     "output_type": "execute_result"
    }
   ],
   "source": [
    "array_rows=[]\n",
    "for row in transformed_df.take(20):\n",
    "    array_rows.append(row.__getitem__(\"features\").values.tolist())\n",
    "    \n",
    "array_rows"
   ]
  },
  {
   "cell_type": "code",
   "execution_count": 8,
   "metadata": {},
   "outputs": [
    {
     "data": {
      "text/plain": [
       "[[5.0, 1.0, 1.0, 1.0, 2.0, 1.0, 3.0, 1.0, 1.0, 2.0],\n",
       " [5.0, 4.0, 4.0, 5.0, 7.0, 2.0, 3.0, 10.0, 1.0, 2.0],\n",
       " [3.0, 1.0, 1.0, 1.0, 2.0, 1.0, 3.0, 2.0, 1.0, 2.0],\n",
       " [6.0, 8.0, 8.0, 1.0, 3.0, 7.0, 3.0, 4.0, 1.0, 2.0],\n",
       " [4.0, 1.0, 1.0, 3.0, 2.0, 1.0, 3.0, 1.0, 1.0, 2.0],\n",
       " [8.0, 10.0, 10.0, 8.0, 7.0, 7.0, 9.0, 10.0, 1.0, 4.0],\n",
       " [1.0, 1.0, 1.0, 1.0, 2.0, 1.0, 3.0, 10.0, 1.0, 2.0],\n",
       " [2.0, 1.0, 2.0, 1.0, 2.0, 1.0, 3.0, 1.0, 1.0, 2.0],\n",
       " [2.0, 1.0, 1.0, 1.0, 2.0, 1.0, 1.0, 1.0, 5.0, 2.0],\n",
       " [4.0, 2.0, 1.0, 1.0, 2.0, 1.0, 2.0, 1.0, 1.0, 2.0]]"
      ]
     },
     "execution_count": 8,
     "metadata": {},
     "output_type": "execute_result"
    }
   ],
   "source": [
    "spark_rdd = sc.parallelize(array_rows)\n",
    "spark_rdd.take(10)"
   ]
  },
  {
   "cell_type": "markdown",
   "metadata": {},
   "source": [
    "## Model Implementation   "
   ]
  },
  {
   "cell_type": "code",
   "execution_count": 9,
   "metadata": {},
   "outputs": [
    {
     "data": {
      "text/plain": [
       "1"
      ]
     },
     "execution_count": 9,
     "metadata": {},
     "output_type": "execute_result"
    }
   ],
   "source": [
    "kmeans = KMeans.train(spark_rdd, 4, maxIterations=10, initializationMode=\"random\")\n",
    "kmeans.predict(array([5.0, 1.0, 1.0, 1.0, 2.0, 1.0, 3.0, 1.0, 1.0, 2.0]))"
   ]
  },
  {
   "cell_type": "markdown",
   "metadata": {},
   "source": [
    "## Clusters Formed   "
   ]
  },
  {
   "cell_type": "code",
   "execution_count": 10,
   "metadata": {},
   "outputs": [
    {
     "data": {
      "text/plain": [
       "[array([ 3. ,  2.5,  2.5,  3. ,  4.5,  1.5,  3. , 10. ,  1. ,  2. ]),\n",
       " array([3.16666667, 1.08333333, 1.08333333, 1.16666667, 1.91666667,\n",
       "        1.        , 2.58333333, 1.25      , 1.33333333, 2.        ]),\n",
       " array([6.        , 5.        , 5.66666667, 2.66666667, 3.66666667,\n",
       "        4.66666667, 3.66666667, 2.66666667, 1.        , 3.33333333]),\n",
       " array([8.66666667, 8.        , 7.33333333, 8.        , 6.        ,\n",
       "        4.33333333, 6.        , 9.66666667, 2.33333333, 4.        ])]"
      ]
     },
     "execution_count": 10,
     "metadata": {},
     "output_type": "execute_result"
    }
   ],
   "source": [
    "kmeans.clusterCenters"
   ]
  }
 ],
 "metadata": {
  "kernelspec": {
   "display_name": "Python 3",
   "language": "python",
   "name": "python3"
  },
  "language_info": {
   "codemirror_mode": {
    "name": "ipython",
    "version": 3
   },
   "file_extension": ".py",
   "mimetype": "text/x-python",
   "name": "python",
   "nbconvert_exporter": "python",
   "pygments_lexer": "ipython3",
   "version": "3.7.4"
  }
 },
 "nbformat": 4,
 "nbformat_minor": 2
}
